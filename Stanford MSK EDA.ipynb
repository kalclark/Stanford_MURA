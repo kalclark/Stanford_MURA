{
 "cells": [
  {
   "cell_type": "markdown",
   "metadata": {},
   "source": [
    "# Bone X-ray Deep Learning Competition\n",
    "- Code submission: on Codalab\n",
    "- Data Origin\n",
    "    - 14863 studies from 12,173 patients\n",
    "    - 40561 multi-view radiographic images\n",
    "    - Types\n",
    "        1. Elbow\n",
    "        2. Finger\n",
    "        3. Forearm\n",
    "        4. Hand\n",
    "        5. Humerus\n",
    "        6. Shoulder\n",
    "        7. Wrist\n",
    "- Labels: as determined by board-certified radiologist at time of radiographic interpretation (2001-2012)\n",
    "    - 0: normal\n",
    "    - 1: abnormal\n",
    "- Test set: hidden\n",
    "    - 207 studies\n",
    "    - 6 radiologists labeled, majority vote based on random 3\n",
    "    \n",
    "# Baseline\n",
    "\n",
    "- Architecture: 169 convolution neural network\n",
    "- Prediction: Abnormality\n",
    "    - Method: Arithmetic mean of abnormality probabilities\n",
    "    - Threshold: >0.5 probability \n",
    "- Head/final layer: single output\n",
    "    - Apply a sigmoid nonlinearity to output in order to get probability\n",
    "- Additionally apply Class Activation Maps to visualize parts of radiograph which contribute most\n",
    "- Metric: Cohen's kappa statistic (agreement of the model with gold standard)\n",
    "\n",
    "# Resources\n",
    "\n",
    "- https://stanfordmlgroup.github.io/competitions/mura/\n"
   ]
  },
  {
   "cell_type": "markdown",
   "metadata": {},
   "source": [
    "# Ideas\n",
    "\n",
    "1. Bounding boxes?\n",
    "2. Class balance for view"
   ]
  },
  {
   "cell_type": "code",
   "execution_count": 159,
   "metadata": {},
   "outputs": [],
   "source": [
    "%reload_ext autoreload\n",
    "%autoreload 2\n",
    "%matplotlib inline"
   ]
  },
  {
   "cell_type": "code",
   "execution_count": 172,
   "metadata": {},
   "outputs": [],
   "source": [
    "from pandas import DataFrame\n",
    "from fastai import *\n",
    "from fastai.vision import *\n",
    "import torch\n",
    "import seaborn as sns "
   ]
  },
  {
   "cell_type": "code",
   "execution_count": 161,
   "metadata": {
    "collapsed": true
   },
   "outputs": [
    {
     "name": "stdout",
     "output_type": "stream",
     "text": [
      "\n",
      "\n",
      "```text\n",
      "=== Software === \n",
      "python        : 3.7.1\n",
      "fastai        : 1.0.49\n",
      "fastprogress  : 0.1.19\n",
      "torch         : 1.0.0\n",
      "nvidia driver : 410.48\n",
      "torch cuda    : 9.0.176 / is available\n",
      "torch cudnn   : 7401 / is enabled\n",
      "\n",
      "=== Hardware === \n",
      "nvidia gpus   : 2\n",
      "torch devices : 2\n",
      "  - gpu0      : 3019MB | GeForce GTX 1080 Ti\n",
      "  - gpu1      : 11175MB | GeForce GTX 1060 3GB\n",
      "\n",
      "=== Environment === \n",
      "platform      : Linux-4.15.0-46-generic-x86_64-with-debian-buster-sid\n",
      "distro        : #49-Ubuntu SMP Wed Feb 6 09:33:07 UTC 2019\n",
      "conda env     : base\n",
      "python        : /home/soco/anaconda3/bin/python\n",
      "sys.path      : /home/soco/DeepLearning/Projects/MURA_xray\n",
      "/home/soco/anaconda3/lib/python37.zip\n",
      "/home/soco/anaconda3/lib/python3.7\n",
      "/home/soco/anaconda3/lib/python3.7/lib-dynload\n",
      "\n",
      "/home/soco/anaconda3/lib/python3.7/site-packages\n",
      "/home/soco/anaconda3/lib/python3.7/site-packages/IPython/extensions\n",
      "/home/soco/.ipython\n",
      "\n",
      "Mon Mar 18 04:15:50 2019       \n",
      "+-----------------------------------------------------------------------------+\n",
      "| NVIDIA-SMI 410.48                 Driver Version: 410.48                    |\n",
      "|-------------------------------+----------------------+----------------------+\n",
      "| GPU  Name        Persistence-M| Bus-Id        Disp.A | Volatile Uncorr. ECC |\n",
      "| Fan  Temp  Perf  Pwr:Usage/Cap|         Memory-Usage | GPU-Util  Compute M. |\n",
      "|===============================+======================+======================|\n",
      "|   0  GeForce GTX 106...  Off  | 00000000:08:00.0 Off |                  N/A |\n",
      "|  0%   43C    P8     4W / 120W |     12MiB /  3019MiB |      0%      Default |\n",
      "+-------------------------------+----------------------+----------------------+\n",
      "|   1  GeForce GTX 108...  Off  | 00000000:0A:00.0  On |                  N/A |\n",
      "| 32%   57C    P0    64W / 250W |   1720MiB / 11175MiB |      0%      Default |\n",
      "+-------------------------------+----------------------+----------------------+\n",
      "                                                                               \n",
      "+-----------------------------------------------------------------------------+\n",
      "| Processes:                                                       GPU Memory |\n",
      "|  GPU       PID   Type   Process name                             Usage      |\n",
      "|=============================================================================|\n",
      "|    1      1283      G   /usr/lib/xorg/Xorg                           768MiB |\n",
      "|    1      1426      G   /usr/bin/gnome-shell                         397MiB |\n",
      "|    1      1614      G   /opt/teamviewer/tv_bin/TeamViewer              2MiB |\n",
      "|    1     12673      G   ...uest-channel-token=18399641446343198793   476MiB |\n",
      "|    1     14072      G   ...quest-channel-token=4324836690100838534    27MiB |\n",
      "|    1     14466      G   ...uest-channel-token=15317807970369342703    44MiB |\n",
      "+-----------------------------------------------------------------------------+\n",
      "\n",
      "```\n",
      "\n",
      "Please make sure to include opening/closing ``` when you paste into forums/github to make the reports appear formatted as code sections.\n",
      "\n",
      "Optional package(s) to enhance the diagnostics can be installed with:\n",
      "pip install distro\n",
      "Once installed, re-run this utility to get the additional information\n"
     ]
    }
   ],
   "source": [
    "from fastai.utils.show_install import show_install\n",
    "show_install(1)"
   ]
  },
  {
   "cell_type": "code",
   "execution_count": 162,
   "metadata": {},
   "outputs": [
    {
     "data": {
      "text/plain": [
       "['MURA-v1.1', 'MURA-v1.1.zip']"
      ]
     },
     "execution_count": 162,
     "metadata": {},
     "output_type": "execute_result"
    }
   ],
   "source": [
    "# Set path to data directory\n",
    "path = Path('/media/soco/DeepLearning/Datasets/Stanford-MURA-MSK/')\n",
    "os.listdir(path)"
   ]
  },
  {
   "cell_type": "code",
   "execution_count": 163,
   "metadata": {},
   "outputs": [],
   "source": [
    "# We'll use train_image_paths.csv and valid_image_paths.csv files to build our EDA source dataframe\n",
    "# The naming convention of the folders includes the label information: study1_positive, study2_negative.\n",
    "# So we don't need the folder level labels, we have those already\n",
    "\n",
    "train_paths = pd.read_csv(os.path.join(path, 'MURA-v1.1', 'train_image_paths.csv'), header=None, names=['filepath'])\n",
    "valid_paths = pd.read_csv(os.path.join(path, 'MURA-v1.1', 'valid_image_paths.csv'), header=None, names=['filepath'])\n",
    "\n",
    "# Add a column identifying which each train/valid set originated from since we're going to combine them\n",
    "train_paths['dataset_type'] = 'train'\n",
    "valid_paths['dataset_type'] = 'valid'\n",
    "\n",
    "# Combination of the train and valid csv files.  There's no good reason they were separated. \n",
    "combine_paths = train_paths.append(valid_paths)"
   ]
  },
  {
   "cell_type": "code",
   "execution_count": 164,
   "metadata": {},
   "outputs": [
    {
     "data": {
      "text/html": [
       "<div>\n",
       "<style scoped>\n",
       "    .dataframe tbody tr th:only-of-type {\n",
       "        vertical-align: middle;\n",
       "    }\n",
       "\n",
       "    .dataframe tbody tr th {\n",
       "        vertical-align: top;\n",
       "    }\n",
       "\n",
       "    .dataframe thead th {\n",
       "        text-align: right;\n",
       "    }\n",
       "</style>\n",
       "<table border=\"1\" class=\"dataframe\">\n",
       "  <thead>\n",
       "    <tr style=\"text-align: right;\">\n",
       "      <th></th>\n",
       "      <th>filepath</th>\n",
       "      <th>dataset_type</th>\n",
       "    </tr>\n",
       "  </thead>\n",
       "  <tbody>\n",
       "    <tr>\n",
       "      <th>0</th>\n",
       "      <td>MURA-v1.1/train/XR_SHOULDER/patient00001/study...</td>\n",
       "      <td>train</td>\n",
       "    </tr>\n",
       "    <tr>\n",
       "      <th>1</th>\n",
       "      <td>MURA-v1.1/train/XR_SHOULDER/patient00001/study...</td>\n",
       "      <td>train</td>\n",
       "    </tr>\n",
       "    <tr>\n",
       "      <th>2</th>\n",
       "      <td>MURA-v1.1/train/XR_SHOULDER/patient00001/study...</td>\n",
       "      <td>train</td>\n",
       "    </tr>\n",
       "    <tr>\n",
       "      <th>3</th>\n",
       "      <td>MURA-v1.1/train/XR_SHOULDER/patient00002/study...</td>\n",
       "      <td>train</td>\n",
       "    </tr>\n",
       "    <tr>\n",
       "      <th>4</th>\n",
       "      <td>MURA-v1.1/train/XR_SHOULDER/patient00002/study...</td>\n",
       "      <td>train</td>\n",
       "    </tr>\n",
       "  </tbody>\n",
       "</table>\n",
       "</div>"
      ],
      "text/plain": [
       "                                            filepath dataset_type\n",
       "0  MURA-v1.1/train/XR_SHOULDER/patient00001/study...        train\n",
       "1  MURA-v1.1/train/XR_SHOULDER/patient00001/study...        train\n",
       "2  MURA-v1.1/train/XR_SHOULDER/patient00001/study...        train\n",
       "3  MURA-v1.1/train/XR_SHOULDER/patient00002/study...        train\n",
       "4  MURA-v1.1/train/XR_SHOULDER/patient00002/study...        train"
      ]
     },
     "execution_count": 164,
     "metadata": {},
     "output_type": "execute_result"
    }
   ],
   "source": [
    "# Let's take a look at the base dataframe\n",
    "combine_paths.head()"
   ]
  },
  {
   "cell_type": "code",
   "execution_count": 165,
   "metadata": {},
   "outputs": [],
   "source": [
    "# We'll use the train_folder to look at the number of images per study later on\n",
    "\n",
    "train_folder = pd.read_csv(os.path.join(path, 'MURA-v1.1', 'train_labeled_studies.csv'), header=None, names=['directory', 'label'])\n",
    "valid_folder = pd.read_csv(os.path.join(path, 'MURA-v1.1', 'valid_labeled_studies.csv'), header=None, names=['directory', 'label'])\n",
    "\n",
    "# Add a column identifying which each train/valid set originated from since we're going to combine them\n",
    "train_folder['dataset_type'] = 'train'\n",
    "valid_folder['dataset_type'] = 'valid'\n",
    "\n",
    "# Combination of the train and valid csv files.  There's no good reason they were separated. \n",
    "combine_folder = train_folder.append(valid_folder)"
   ]
  },
  {
   "cell_type": "code",
   "execution_count": 166,
   "metadata": {
    "scrolled": true
   },
   "outputs": [
    {
     "data": {
      "text/html": [
       "<div>\n",
       "<style scoped>\n",
       "    .dataframe tbody tr th:only-of-type {\n",
       "        vertical-align: middle;\n",
       "    }\n",
       "\n",
       "    .dataframe tbody tr th {\n",
       "        vertical-align: top;\n",
       "    }\n",
       "\n",
       "    .dataframe thead th {\n",
       "        text-align: right;\n",
       "    }\n",
       "</style>\n",
       "<table border=\"1\" class=\"dataframe\">\n",
       "  <thead>\n",
       "    <tr style=\"text-align: right;\">\n",
       "      <th></th>\n",
       "      <th>directory</th>\n",
       "      <th>label</th>\n",
       "      <th>dataset_type</th>\n",
       "    </tr>\n",
       "  </thead>\n",
       "  <tbody>\n",
       "    <tr>\n",
       "      <th>0</th>\n",
       "      <td>MURA-v1.1/train/XR_SHOULDER/patient00001/study...</td>\n",
       "      <td>1</td>\n",
       "      <td>train</td>\n",
       "    </tr>\n",
       "    <tr>\n",
       "      <th>1</th>\n",
       "      <td>MURA-v1.1/train/XR_SHOULDER/patient00002/study...</td>\n",
       "      <td>1</td>\n",
       "      <td>train</td>\n",
       "    </tr>\n",
       "    <tr>\n",
       "      <th>2</th>\n",
       "      <td>MURA-v1.1/train/XR_SHOULDER/patient00003/study...</td>\n",
       "      <td>1</td>\n",
       "      <td>train</td>\n",
       "    </tr>\n",
       "    <tr>\n",
       "      <th>3</th>\n",
       "      <td>MURA-v1.1/train/XR_SHOULDER/patient00004/study...</td>\n",
       "      <td>1</td>\n",
       "      <td>train</td>\n",
       "    </tr>\n",
       "    <tr>\n",
       "      <th>4</th>\n",
       "      <td>MURA-v1.1/train/XR_SHOULDER/patient00005/study...</td>\n",
       "      <td>1</td>\n",
       "      <td>train</td>\n",
       "    </tr>\n",
       "  </tbody>\n",
       "</table>\n",
       "</div>"
      ],
      "text/plain": [
       "                                           directory  label dataset_type\n",
       "0  MURA-v1.1/train/XR_SHOULDER/patient00001/study...      1        train\n",
       "1  MURA-v1.1/train/XR_SHOULDER/patient00002/study...      1        train\n",
       "2  MURA-v1.1/train/XR_SHOULDER/patient00003/study...      1        train\n",
       "3  MURA-v1.1/train/XR_SHOULDER/patient00004/study...      1        train\n",
       "4  MURA-v1.1/train/XR_SHOULDER/patient00005/study...      1        train"
      ]
     },
     "execution_count": 166,
     "metadata": {},
     "output_type": "execute_result"
    }
   ],
   "source": [
    "combine_folder.head()"
   ]
  },
  {
   "cell_type": "code",
   "execution_count": 169,
   "metadata": {},
   "outputs": [],
   "source": [
    "# Get the total images for each study\n",
    "combine_folder['total_images'] = combine_folder['directory'].apply(lambda x: len(os.listdir(os.path.join(path,x))))"
   ]
  },
  {
   "cell_type": "code",
   "execution_count": 170,
   "metadata": {},
   "outputs": [
    {
     "data": {
      "text/html": [
       "<div>\n",
       "<style scoped>\n",
       "    .dataframe tbody tr th:only-of-type {\n",
       "        vertical-align: middle;\n",
       "    }\n",
       "\n",
       "    .dataframe tbody tr th {\n",
       "        vertical-align: top;\n",
       "    }\n",
       "\n",
       "    .dataframe thead th {\n",
       "        text-align: right;\n",
       "    }\n",
       "</style>\n",
       "<table border=\"1\" class=\"dataframe\">\n",
       "  <thead>\n",
       "    <tr style=\"text-align: right;\">\n",
       "      <th></th>\n",
       "      <th>directory</th>\n",
       "      <th>label</th>\n",
       "      <th>dataset_type</th>\n",
       "      <th>total_images</th>\n",
       "    </tr>\n",
       "  </thead>\n",
       "  <tbody>\n",
       "    <tr>\n",
       "      <th>0</th>\n",
       "      <td>MURA-v1.1/train/XR_SHOULDER/patient00001/study...</td>\n",
       "      <td>1</td>\n",
       "      <td>train</td>\n",
       "      <td>3</td>\n",
       "    </tr>\n",
       "    <tr>\n",
       "      <th>1</th>\n",
       "      <td>MURA-v1.1/train/XR_SHOULDER/patient00002/study...</td>\n",
       "      <td>1</td>\n",
       "      <td>train</td>\n",
       "      <td>3</td>\n",
       "    </tr>\n",
       "    <tr>\n",
       "      <th>2</th>\n",
       "      <td>MURA-v1.1/train/XR_SHOULDER/patient00003/study...</td>\n",
       "      <td>1</td>\n",
       "      <td>train</td>\n",
       "      <td>3</td>\n",
       "    </tr>\n",
       "    <tr>\n",
       "      <th>3</th>\n",
       "      <td>MURA-v1.1/train/XR_SHOULDER/patient00004/study...</td>\n",
       "      <td>1</td>\n",
       "      <td>train</td>\n",
       "      <td>4</td>\n",
       "    </tr>\n",
       "    <tr>\n",
       "      <th>4</th>\n",
       "      <td>MURA-v1.1/train/XR_SHOULDER/patient00005/study...</td>\n",
       "      <td>1</td>\n",
       "      <td>train</td>\n",
       "      <td>1</td>\n",
       "    </tr>\n",
       "  </tbody>\n",
       "</table>\n",
       "</div>"
      ],
      "text/plain": [
       "                                           directory  label dataset_type  \\\n",
       "0  MURA-v1.1/train/XR_SHOULDER/patient00001/study...      1        train   \n",
       "1  MURA-v1.1/train/XR_SHOULDER/patient00002/study...      1        train   \n",
       "2  MURA-v1.1/train/XR_SHOULDER/patient00003/study...      1        train   \n",
       "3  MURA-v1.1/train/XR_SHOULDER/patient00004/study...      1        train   \n",
       "4  MURA-v1.1/train/XR_SHOULDER/patient00005/study...      1        train   \n",
       "\n",
       "   total_images  \n",
       "0             3  \n",
       "1             3  \n",
       "2             3  \n",
       "3             4  \n",
       "4             1  "
      ]
     },
     "execution_count": 170,
     "metadata": {},
     "output_type": "execute_result"
    }
   ],
   "source": [
    "combine_folder.head()"
   ]
  },
  {
   "cell_type": "markdown",
   "metadata": {},
   "source": [
    "The filepath can be separated using a str.split pandas method so that we can get out the key information:\n",
    "1. Study_type: What body part was imaged\n",
    "2. Patient: The patient number\n",
    "3. Study_number: If a patient had more than 1 study, which study of the series it was"
   ]
  },
  {
   "cell_type": "code",
   "execution_count": 182,
   "metadata": {},
   "outputs": [
    {
     "data": {
      "text/html": [
       "<div>\n",
       "<style scoped>\n",
       "    .dataframe tbody tr th:only-of-type {\n",
       "        vertical-align: middle;\n",
       "    }\n",
       "\n",
       "    .dataframe tbody tr th {\n",
       "        vertical-align: top;\n",
       "    }\n",
       "\n",
       "    .dataframe thead th {\n",
       "        text-align: right;\n",
       "    }\n",
       "</style>\n",
       "<table border=\"1\" class=\"dataframe\">\n",
       "  <thead>\n",
       "    <tr style=\"text-align: right;\">\n",
       "      <th></th>\n",
       "      <th>project</th>\n",
       "      <th>dataset_type</th>\n",
       "      <th>study_type</th>\n",
       "      <th>patient</th>\n",
       "      <th>study_number</th>\n",
       "    </tr>\n",
       "  </thead>\n",
       "  <tbody>\n",
       "    <tr>\n",
       "      <th>0</th>\n",
       "      <td>MURA-v1.1</td>\n",
       "      <td>train</td>\n",
       "      <td>XR_SHOULDER</td>\n",
       "      <td>patient00001</td>\n",
       "      <td>study1_positive/</td>\n",
       "    </tr>\n",
       "    <tr>\n",
       "      <th>1</th>\n",
       "      <td>MURA-v1.1</td>\n",
       "      <td>train</td>\n",
       "      <td>XR_SHOULDER</td>\n",
       "      <td>patient00002</td>\n",
       "      <td>study1_positive/</td>\n",
       "    </tr>\n",
       "    <tr>\n",
       "      <th>2</th>\n",
       "      <td>MURA-v1.1</td>\n",
       "      <td>train</td>\n",
       "      <td>XR_SHOULDER</td>\n",
       "      <td>patient00003</td>\n",
       "      <td>study1_positive/</td>\n",
       "    </tr>\n",
       "    <tr>\n",
       "      <th>3</th>\n",
       "      <td>MURA-v1.1</td>\n",
       "      <td>train</td>\n",
       "      <td>XR_SHOULDER</td>\n",
       "      <td>patient00004</td>\n",
       "      <td>study1_positive/</td>\n",
       "    </tr>\n",
       "    <tr>\n",
       "      <th>4</th>\n",
       "      <td>MURA-v1.1</td>\n",
       "      <td>train</td>\n",
       "      <td>XR_SHOULDER</td>\n",
       "      <td>patient00005</td>\n",
       "      <td>study1_positive/</td>\n",
       "    </tr>\n",
       "  </tbody>\n",
       "</table>\n",
       "</div>"
      ],
      "text/plain": [
       "     project dataset_type   study_type       patient      study_number\n",
       "0  MURA-v1.1        train  XR_SHOULDER  patient00001  study1_positive/\n",
       "1  MURA-v1.1        train  XR_SHOULDER  patient00002  study1_positive/\n",
       "2  MURA-v1.1        train  XR_SHOULDER  patient00003  study1_positive/\n",
       "3  MURA-v1.1        train  XR_SHOULDER  patient00004  study1_positive/\n",
       "4  MURA-v1.1        train  XR_SHOULDER  patient00005  study1_positive/"
      ]
     },
     "execution_count": 182,
     "metadata": {},
     "output_type": "execute_result"
    }
   ],
   "source": [
    "# The string split is stored in a new dataframe combine_folder1 which we can piecemeal add back to the main dataframe\n",
    "combine_folder1 = pd.DataFrame(combine_folder.directory.str.split(n=4, pat = \"/\").tolist(), columns=['project','dataset_type','study_type','patient','study_number'])\n",
    "combine_folder1.head()"
   ]
  },
  {
   "cell_type": "code",
   "execution_count": 183,
   "metadata": {},
   "outputs": [],
   "source": [
    "combine_folder['study_type']=combine_folder1['study_type']"
   ]
  },
  {
   "cell_type": "code",
   "execution_count": 113,
   "metadata": {},
   "outputs": [
    {
     "data": {
      "text/html": [
       "<div>\n",
       "<style scoped>\n",
       "    .dataframe tbody tr th:only-of-type {\n",
       "        vertical-align: middle;\n",
       "    }\n",
       "\n",
       "    .dataframe tbody tr th {\n",
       "        vertical-align: top;\n",
       "    }\n",
       "\n",
       "    .dataframe thead th {\n",
       "        text-align: right;\n",
       "    }\n",
       "</style>\n",
       "<table border=\"1\" class=\"dataframe\">\n",
       "  <thead>\n",
       "    <tr style=\"text-align: right;\">\n",
       "      <th></th>\n",
       "      <th>project</th>\n",
       "      <th>dataset_type</th>\n",
       "      <th>study_type</th>\n",
       "      <th>patient</th>\n",
       "      <th>study_number</th>\n",
       "      <th>filename</th>\n",
       "    </tr>\n",
       "  </thead>\n",
       "  <tbody>\n",
       "    <tr>\n",
       "      <th>0</th>\n",
       "      <td>MURA-v1.1</td>\n",
       "      <td>train</td>\n",
       "      <td>XR_SHOULDER</td>\n",
       "      <td>patient00001</td>\n",
       "      <td>study1_positive</td>\n",
       "      <td>image1.png</td>\n",
       "    </tr>\n",
       "    <tr>\n",
       "      <th>1</th>\n",
       "      <td>MURA-v1.1</td>\n",
       "      <td>train</td>\n",
       "      <td>XR_SHOULDER</td>\n",
       "      <td>patient00001</td>\n",
       "      <td>study1_positive</td>\n",
       "      <td>image2.png</td>\n",
       "    </tr>\n",
       "    <tr>\n",
       "      <th>2</th>\n",
       "      <td>MURA-v1.1</td>\n",
       "      <td>train</td>\n",
       "      <td>XR_SHOULDER</td>\n",
       "      <td>patient00001</td>\n",
       "      <td>study1_positive</td>\n",
       "      <td>image3.png</td>\n",
       "    </tr>\n",
       "    <tr>\n",
       "      <th>3</th>\n",
       "      <td>MURA-v1.1</td>\n",
       "      <td>train</td>\n",
       "      <td>XR_SHOULDER</td>\n",
       "      <td>patient00002</td>\n",
       "      <td>study1_positive</td>\n",
       "      <td>image1.png</td>\n",
       "    </tr>\n",
       "    <tr>\n",
       "      <th>4</th>\n",
       "      <td>MURA-v1.1</td>\n",
       "      <td>train</td>\n",
       "      <td>XR_SHOULDER</td>\n",
       "      <td>patient00002</td>\n",
       "      <td>study1_positive</td>\n",
       "      <td>image2.png</td>\n",
       "    </tr>\n",
       "  </tbody>\n",
       "</table>\n",
       "</div>"
      ],
      "text/plain": [
       "     project dataset_type   study_type       patient     study_number  \\\n",
       "0  MURA-v1.1        train  XR_SHOULDER  patient00001  study1_positive   \n",
       "1  MURA-v1.1        train  XR_SHOULDER  patient00001  study1_positive   \n",
       "2  MURA-v1.1        train  XR_SHOULDER  patient00001  study1_positive   \n",
       "3  MURA-v1.1        train  XR_SHOULDER  patient00002  study1_positive   \n",
       "4  MURA-v1.1        train  XR_SHOULDER  patient00002  study1_positive   \n",
       "\n",
       "     filename  \n",
       "0  image1.png  \n",
       "1  image2.png  \n",
       "2  image3.png  \n",
       "3  image1.png  \n",
       "4  image2.png  "
      ]
     },
     "execution_count": 113,
     "metadata": {},
     "output_type": "execute_result"
    }
   ],
   "source": [
    "# The string split is stored in a new dataframe combine_paths1 which we can piecemeal add back to the main dataframe\n",
    "combine_paths1 = pd.DataFrame(combine_paths.filepath.str.split(pat = \"/\").tolist(), columns=['project','dataset_type','study_type','patient','study_number','filename'])\n",
    "combine_paths1.head()"
   ]
  },
  {
   "cell_type": "code",
   "execution_count": 115,
   "metadata": {},
   "outputs": [],
   "source": [
    "combine_paths['study_type']=combine_paths1['study_type']\n",
    "combine_paths['patient']=combine_paths1['patient']\n",
    "combine_paths['study']=combine_paths1['study_number']\n",
    "combine_paths['dataset_type']=combine_paths1['dataset_type']\n",
    "combine_paths['filename']=combine_paths1['filename']"
   ]
  },
  {
   "cell_type": "code",
   "execution_count": 116,
   "metadata": {},
   "outputs": [
    {
     "data": {
      "text/html": [
       "<div>\n",
       "<style scoped>\n",
       "    .dataframe tbody tr th:only-of-type {\n",
       "        vertical-align: middle;\n",
       "    }\n",
       "\n",
       "    .dataframe tbody tr th {\n",
       "        vertical-align: top;\n",
       "    }\n",
       "\n",
       "    .dataframe thead th {\n",
       "        text-align: right;\n",
       "    }\n",
       "</style>\n",
       "<table border=\"1\" class=\"dataframe\">\n",
       "  <thead>\n",
       "    <tr style=\"text-align: right;\">\n",
       "      <th></th>\n",
       "      <th>filepath</th>\n",
       "      <th>dataset_type</th>\n",
       "      <th>study_type</th>\n",
       "      <th>patient</th>\n",
       "      <th>study</th>\n",
       "      <th>filename</th>\n",
       "    </tr>\n",
       "  </thead>\n",
       "  <tbody>\n",
       "    <tr>\n",
       "      <th>0</th>\n",
       "      <td>MURA-v1.1/train/XR_SHOULDER/patient00001/study...</td>\n",
       "      <td>train</td>\n",
       "      <td>XR_SHOULDER</td>\n",
       "      <td>patient00001</td>\n",
       "      <td>study1_positive</td>\n",
       "      <td>image1.png</td>\n",
       "    </tr>\n",
       "    <tr>\n",
       "      <th>1</th>\n",
       "      <td>MURA-v1.1/train/XR_SHOULDER/patient00001/study...</td>\n",
       "      <td>train</td>\n",
       "      <td>XR_SHOULDER</td>\n",
       "      <td>patient00001</td>\n",
       "      <td>study1_positive</td>\n",
       "      <td>image2.png</td>\n",
       "    </tr>\n",
       "    <tr>\n",
       "      <th>2</th>\n",
       "      <td>MURA-v1.1/train/XR_SHOULDER/patient00001/study...</td>\n",
       "      <td>train</td>\n",
       "      <td>XR_SHOULDER</td>\n",
       "      <td>patient00001</td>\n",
       "      <td>study1_positive</td>\n",
       "      <td>image3.png</td>\n",
       "    </tr>\n",
       "    <tr>\n",
       "      <th>3</th>\n",
       "      <td>MURA-v1.1/train/XR_SHOULDER/patient00002/study...</td>\n",
       "      <td>train</td>\n",
       "      <td>XR_SHOULDER</td>\n",
       "      <td>patient00002</td>\n",
       "      <td>study1_positive</td>\n",
       "      <td>image1.png</td>\n",
       "    </tr>\n",
       "    <tr>\n",
       "      <th>4</th>\n",
       "      <td>MURA-v1.1/train/XR_SHOULDER/patient00002/study...</td>\n",
       "      <td>train</td>\n",
       "      <td>XR_SHOULDER</td>\n",
       "      <td>patient00002</td>\n",
       "      <td>study1_positive</td>\n",
       "      <td>image2.png</td>\n",
       "    </tr>\n",
       "  </tbody>\n",
       "</table>\n",
       "</div>"
      ],
      "text/plain": [
       "                                            filepath dataset_type  \\\n",
       "0  MURA-v1.1/train/XR_SHOULDER/patient00001/study...        train   \n",
       "1  MURA-v1.1/train/XR_SHOULDER/patient00001/study...        train   \n",
       "2  MURA-v1.1/train/XR_SHOULDER/patient00001/study...        train   \n",
       "3  MURA-v1.1/train/XR_SHOULDER/patient00002/study...        train   \n",
       "4  MURA-v1.1/train/XR_SHOULDER/patient00002/study...        train   \n",
       "\n",
       "    study_type       patient            study    filename  \n",
       "0  XR_SHOULDER  patient00001  study1_positive  image1.png  \n",
       "1  XR_SHOULDER  patient00001  study1_positive  image2.png  \n",
       "2  XR_SHOULDER  patient00001  study1_positive  image3.png  \n",
       "3  XR_SHOULDER  patient00002  study1_positive  image1.png  \n",
       "4  XR_SHOULDER  patient00002  study1_positive  image2.png  "
      ]
     },
     "execution_count": 116,
     "metadata": {},
     "output_type": "execute_result"
    }
   ],
   "source": [
    "combine_paths.head()"
   ]
  },
  {
   "cell_type": "code",
   "execution_count": 136,
   "metadata": {},
   "outputs": [],
   "source": [
    "# Add the label information\n",
    "combine_paths['label']=combine_paths['study'].apply(lambda x: '1' if 'positive' in x else '0')\n",
    "\n",
    "# Add the directory information\n",
    "combine_paths['directory']=combine_paths['filepath'].apply(lambda x: os.path.dirname(x))\n"
   ]
  },
  {
   "cell_type": "code",
   "execution_count": 137,
   "metadata": {
    "scrolled": true
   },
   "outputs": [
    {
     "data": {
      "text/html": [
       "<div>\n",
       "<style scoped>\n",
       "    .dataframe tbody tr th:only-of-type {\n",
       "        vertical-align: middle;\n",
       "    }\n",
       "\n",
       "    .dataframe tbody tr th {\n",
       "        vertical-align: top;\n",
       "    }\n",
       "\n",
       "    .dataframe thead th {\n",
       "        text-align: right;\n",
       "    }\n",
       "</style>\n",
       "<table border=\"1\" class=\"dataframe\">\n",
       "  <thead>\n",
       "    <tr style=\"text-align: right;\">\n",
       "      <th></th>\n",
       "      <th>filepath</th>\n",
       "      <th>dataset_type</th>\n",
       "      <th>study_type</th>\n",
       "      <th>patient</th>\n",
       "      <th>study</th>\n",
       "      <th>filename</th>\n",
       "      <th>label</th>\n",
       "      <th>directory</th>\n",
       "    </tr>\n",
       "  </thead>\n",
       "  <tbody>\n",
       "    <tr>\n",
       "      <th>0</th>\n",
       "      <td>MURA-v1.1/train/XR_SHOULDER/patient00001/study...</td>\n",
       "      <td>train</td>\n",
       "      <td>XR_SHOULDER</td>\n",
       "      <td>patient00001</td>\n",
       "      <td>study1_positive</td>\n",
       "      <td>image1.png</td>\n",
       "      <td>1</td>\n",
       "      <td>MURA-v1.1/train/XR_SHOULDER/patient00001/study...</td>\n",
       "    </tr>\n",
       "    <tr>\n",
       "      <th>1</th>\n",
       "      <td>MURA-v1.1/train/XR_SHOULDER/patient00001/study...</td>\n",
       "      <td>train</td>\n",
       "      <td>XR_SHOULDER</td>\n",
       "      <td>patient00001</td>\n",
       "      <td>study1_positive</td>\n",
       "      <td>image2.png</td>\n",
       "      <td>1</td>\n",
       "      <td>MURA-v1.1/train/XR_SHOULDER/patient00001/study...</td>\n",
       "    </tr>\n",
       "    <tr>\n",
       "      <th>2</th>\n",
       "      <td>MURA-v1.1/train/XR_SHOULDER/patient00001/study...</td>\n",
       "      <td>train</td>\n",
       "      <td>XR_SHOULDER</td>\n",
       "      <td>patient00001</td>\n",
       "      <td>study1_positive</td>\n",
       "      <td>image3.png</td>\n",
       "      <td>1</td>\n",
       "      <td>MURA-v1.1/train/XR_SHOULDER/patient00001/study...</td>\n",
       "    </tr>\n",
       "    <tr>\n",
       "      <th>3</th>\n",
       "      <td>MURA-v1.1/train/XR_SHOULDER/patient00002/study...</td>\n",
       "      <td>train</td>\n",
       "      <td>XR_SHOULDER</td>\n",
       "      <td>patient00002</td>\n",
       "      <td>study1_positive</td>\n",
       "      <td>image1.png</td>\n",
       "      <td>1</td>\n",
       "      <td>MURA-v1.1/train/XR_SHOULDER/patient00002/study...</td>\n",
       "    </tr>\n",
       "    <tr>\n",
       "      <th>4</th>\n",
       "      <td>MURA-v1.1/train/XR_SHOULDER/patient00002/study...</td>\n",
       "      <td>train</td>\n",
       "      <td>XR_SHOULDER</td>\n",
       "      <td>patient00002</td>\n",
       "      <td>study1_positive</td>\n",
       "      <td>image2.png</td>\n",
       "      <td>1</td>\n",
       "      <td>MURA-v1.1/train/XR_SHOULDER/patient00002/study...</td>\n",
       "    </tr>\n",
       "  </tbody>\n",
       "</table>\n",
       "</div>"
      ],
      "text/plain": [
       "                                            filepath dataset_type  \\\n",
       "0  MURA-v1.1/train/XR_SHOULDER/patient00001/study...        train   \n",
       "1  MURA-v1.1/train/XR_SHOULDER/patient00001/study...        train   \n",
       "2  MURA-v1.1/train/XR_SHOULDER/patient00001/study...        train   \n",
       "3  MURA-v1.1/train/XR_SHOULDER/patient00002/study...        train   \n",
       "4  MURA-v1.1/train/XR_SHOULDER/patient00002/study...        train   \n",
       "\n",
       "    study_type       patient            study    filename label  \\\n",
       "0  XR_SHOULDER  patient00001  study1_positive  image1.png     1   \n",
       "1  XR_SHOULDER  patient00001  study1_positive  image2.png     1   \n",
       "2  XR_SHOULDER  patient00001  study1_positive  image3.png     1   \n",
       "3  XR_SHOULDER  patient00002  study1_positive  image1.png     1   \n",
       "4  XR_SHOULDER  patient00002  study1_positive  image2.png     1   \n",
       "\n",
       "                                           directory  \n",
       "0  MURA-v1.1/train/XR_SHOULDER/patient00001/study...  \n",
       "1  MURA-v1.1/train/XR_SHOULDER/patient00001/study...  \n",
       "2  MURA-v1.1/train/XR_SHOULDER/patient00001/study...  \n",
       "3  MURA-v1.1/train/XR_SHOULDER/patient00002/study...  \n",
       "4  MURA-v1.1/train/XR_SHOULDER/patient00002/study...  "
      ]
     },
     "execution_count": 137,
     "metadata": {},
     "output_type": "execute_result"
    }
   ],
   "source": [
    "combine_paths.head()"
   ]
  },
  {
   "cell_type": "code",
   "execution_count": 144,
   "metadata": {},
   "outputs": [
    {
     "data": {
      "text/plain": [
       "3"
      ]
     },
     "execution_count": 144,
     "metadata": {},
     "output_type": "execute_result"
    }
   ],
   "source": [
    "combine_paths.iloc[0,0]\n",
    "os.path.dirname('MURA-v1.1/train/XR_SHOULDER/patient00001/study1_positive/image1.png')\n",
    "len(os.listdir(os.path.join(path,'train','XR_SHOULDER','patient00001','study1_positive')))"
   ]
  },
  {
   "cell_type": "code",
   "execution_count": 127,
   "metadata": {},
   "outputs": [
    {
     "data": {
      "text/plain": [
       "(40005, 7)"
      ]
     },
     "execution_count": 127,
     "metadata": {},
     "output_type": "execute_result"
    }
   ],
   "source": [
    "combine_paths.shape"
   ]
  },
  {
   "cell_type": "code",
   "execution_count": 133,
   "metadata": {},
   "outputs": [
    {
     "data": {
      "image/png": "[encoded data removed]",
      "text/plain": [
       "<Figure size 432x288 with 1 Axes>"
      ]
     },
     "metadata": {
      "needs_background": "light"
     },
     "output_type": "display_data"
    }
   ],
   "source": [
    "combine_paths['label'].value_counts().sort_index().plot('barh', color='red');\n",
    "plt.title('Positive radiographs, 1=positive');"
   ]
  },
  {
   "cell_type": "code",
   "execution_count": 132,
   "metadata": {},
   "outputs": [
    {
     "data": {
      "image/png": "[encoded data removed]",
      "text/plain": [
       "<Figure size 432x288 with 1 Axes>"
      ]
     },
     "metadata": {
      "needs_background": "light"
     },
     "output_type": "display_data"
    }
   ],
   "source": [
    "combine_paths['study_type'].value_counts().sort_index().plot('barh', color='blue');\n",
    "plt.title('Study Types');"
   ]
  },
  {
   "cell_type": "code",
   "execution_count": 176,
   "metadata": {},
   "outputs": [
    {
     "data": {
      "image/png": "[encoded data removed]",
      "text/plain": [
       "<Figure size 1008x432 with 1 Axes>"
      ]
     },
     "metadata": {
      "needs_background": "light"
     },
     "output_type": "display_data"
    }
   ],
   "source": [
    "plt.figure(figsize=(14,6));\n",
    "g = sns.countplot(x='total_images', data=combine_folder);\n",
    "plt.title('Number of Images per Study');\n",
    "ax=g.axes"
   ]
  },
  {
   "cell_type": "code",
   "execution_count": 187,
   "metadata": {},
   "outputs": [
    {
     "data": {
      "image/png": "[encoded data removed]",
      "text/plain": [
       "<Figure size 1008x432 with 1 Axes>"
      ]
     },
     "metadata": {
      "needs_background": "light"
     },
     "output_type": "display_data"
    }
   ],
   "source": [
    "plt.figure(figsize=(14,6));\n",
    "g = sns.countplot(x='total_images', data=combine_folder, hue='study_type');\n",
    "plt.title('Number of Images per Study by Type');\n",
    "ax=g.axes"
   ]
  },
  {
   "cell_type": "code",
   "execution_count": 191,
   "metadata": {},
   "outputs": [
    {
     "data": {
      "image/png": "[encoded data removed]",
      "text/plain": [
       "<Figure size 1008x432 with 1 Axes>"
      ]
     },
     "metadata": {
      "needs_background": "light"
     },
     "output_type": "display_data"
    }
   ],
   "source": [
    "plt.figure(figsize=(14,6));\n",
    "g = sns.countplot(x='label', data=combine_folder, hue='study_type');\n",
    "plt.title('Label: neg0/pos1 by Study Type');\n",
    "ax=g.axes"
   ]
  },
  {
   "cell_type": "code",
   "execution_count": null,
   "metadata": {},
   "outputs": [],
   "source": []
  }
 ],
 "metadata": {
  "kernelspec": {
   "display_name": "Python 3",
   "language": "python",
   "name": "python3"
  },
  "language_info": {
   "codemirror_mode": {
    "name": "ipython",
    "version": 3
   },
   "file_extension": ".py",
   "mimetype": "text/x-python",
   "name": "python",
   "nbconvert_exporter": "python",
   "pygments_lexer": "ipython3",
   "version": "3.7.1"
  }
 },
 "nbformat": 4,
 "nbformat_minor": 2
}
